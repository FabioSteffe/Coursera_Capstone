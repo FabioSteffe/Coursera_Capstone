{
 "cells": [
  {
   "cell_type": "markdown",
   "metadata": {},
   "source": [
    "# Coursera Applied Data Science Course Capstone Project"
   ]
  },
  {
   "cell_type": "code",
   "execution_count": 2,
   "metadata": {},
   "outputs": [],
   "source": [
    "import pandas as pd\n",
    "import numpy as np"
   ]
  },
  {
   "cell_type": "code",
   "execution_count": 3,
   "metadata": {},
   "outputs": [
    {
     "name": "stdout",
     "output_type": "stream",
     "text": [
      "Hello Capstone Project Course!\n"
     ]
    }
   ],
   "source": [
    "print('Hello Capstone Project Course!')"
   ]
  },
  {
   "cell_type": "code",
   "execution_count": 4,
   "metadata": {},
   "outputs": [],
   "source": [
    "CLIENT_ID = 'KHPKNWLUOM2M2GOBRPPE355RX3IS2HEWCWJTP0HYY4BOYG2L'\n",
    "SECRET = '5PJK30XKFHXCYJWVJ1ZJVQFDMWFZDKLIX5JRKUCYKLJAVAZS'"
   ]
  },
  {
   "cell_type": "code",
   "execution_count": 5,
   "metadata": {},
   "outputs": [],
   "source": [
    "base_api = 'https://api.foursquare.com/v2/'"
   ]
  },
  {
   "cell_type": "code",
   "execution_count": 6,
   "metadata": {},
   "outputs": [],
   "source": [
    "# some APIs\n",
    "\n",
    "# https://api.foursquare.com/v2/venues/search?\n",
    "# client_id=**&client_secret=**&v=20180602\n",
    "# &ll=40.73,-74.01 &query=coffee\n",
    "\n",
    "# https://api.foursquare.com/v2/venues/<cafe id>?\n",
    "# client_id=**&client_secret=**&v=20180602\n",
    "\n",
    "# https://api.foursquare.com/v2/venues/<cafe id>/tips?\n",
    "# client_id=**&client_secret=**&v=20180602\n",
    "\n",
    "# https://api.foursquare.com/v2/user/<user id>?\n",
    "# client_id=**&client_secret=**&v=20180602\n",
    "\n",
    "# https://api.foursquare.com/v2/venues/explore?\n",
    "# client_id=**&client_secret=**&v=20180602\n",
    "# &ll=40.73,-74.01\n",
    "\n",
    "# https://api.foursquare.com/v2/venues/trending?\n",
    "# client_id=**&client_secret=**&v=20180602\n",
    "# &ll=40.73,-74.01"
   ]
  },
  {
   "cell_type": "code",
   "execution_count": null,
   "metadata": {},
   "outputs": [],
   "source": []
  }
 ],
 "metadata": {
  "kernelspec": {
   "display_name": "Python 3",
   "language": "python",
   "name": "python3"
  },
  "language_info": {
   "codemirror_mode": {
    "name": "ipython",
    "version": 3
   },
   "file_extension": ".py",
   "mimetype": "text/x-python",
   "name": "python",
   "nbconvert_exporter": "python",
   "pygments_lexer": "ipython3",
   "version": "3.6.8"
  }
 },
 "nbformat": 4,
 "nbformat_minor": 2
}
